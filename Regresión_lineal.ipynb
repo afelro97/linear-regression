{
  "nbformat": 4,
  "nbformat_minor": 0,
  "metadata": {
    "colab": {
      "name": "Regresión lineal.ipynb",
      "provenance": [],
      "authorship_tag": "ABX9TyON8WMdJ99+6pjGDDQ+33fg",
      "include_colab_link": true
    },
    "kernelspec": {
      "name": "python3",
      "display_name": "Python 3"
    },
    "language_info": {
      "name": "python"
    }
  },
  "cells": [
    {
      "cell_type": "markdown",
      "metadata": {
        "id": "view-in-github",
        "colab_type": "text"
      },
      "source": [
        "<a href=\"https://colab.research.google.com/github/afelro97/linear-regression/blob/main/Regresi%C3%B3n_lineal.ipynb\" target=\"_parent\"><img src=\"https://colab.research.google.com/assets/colab-badge.svg\" alt=\"Open In Colab\"/></a>"
      ]
    },
    {
      "cell_type": "code",
      "metadata": {
        "id": "VHITtpiP2hE2"
      },
      "source": [
        "import numpy as np\n",
        "import matplotlib.pyplot as plt"
      ],
      "execution_count": null,
      "outputs": []
    },
    {
      "cell_type": "code",
      "metadata": {
        "id": "QJW0Ot4X2mc2"
      },
      "source": [
        "x = np.array([0.12, 0.19, 0.32, 0.4, 0.48, 0.61])     # sen(\\theta1i-\\theta1r)/cos(\\theta1r)\n",
        "y = np.array([1, 2, 3, 4, 5, 6])                      # \\delta\n",
        "# Regresión Lineal de scikit-learn"
      ],
      "execution_count": null,
      "outputs": []
    },
    {
      "cell_type": "code",
      "metadata": {
        "id": "QzJihk-L2qKg"
      },
      "source": [
        "from sklearn.linear_model import LinearRegression \n"
      ],
      "execution_count": null,
      "outputs": []
    },
    {
      "cell_type": "code",
      "metadata": {
        "id": "0R2NDT3b2s-u",
        "colab": {
          "base_uri": "https://localhost:8080/",
          "height": 330
        },
        "outputId": "b2638ef6-9237-4088-9763-414e45a292f8"
      },
      "source": [
        "regresion_lineal = LinearRegression() # creamos una instancia de LinearRegression\n",
        "\n",
        "# instruimos a la regresión lineal que aprenda de los datos (x,y)\n",
        "regresion_lineal.fit(x.reshape(-1,1), y) \n",
        "\n",
        "# vemos los parámetros que ha estimado la regresión lineal\n",
        "print('m = ' + str(regresion_lineal.coef_) + ', b = ' + str(regresion_lineal.intercept_))\n",
        "m = regresion_lineal.coef_\n",
        "b = regresion_lineal.intercept_\n",
        "print('y='+str(m[0]) + 'x' '+(' +str(b)+')')\n",
        "\n",
        "# Graficamos datos\n",
        "plt.plot(x,y,'*')\n",
        "\n",
        "# graficamos el ajuste lineal\n",
        "xrl = np.linspace(0.1,0.6,30)\n",
        "yrl = m*xrl+b\n",
        "plt.plot(xrl,yrl,'--r')\n",
        "plt.xlabel('x')          # sen(\\theta1i-\\theta1r)/cos(\\theta1r)\n",
        "plt.ylabel('y')          # \\delta"
      ],
      "execution_count": null,
      "outputs": [
        {
          "output_type": "stream",
          "text": [
            "m = [10.22044088], b = -0.11122244488978117\n",
            "y=10.220440881763531x+(-0.11122244488978117)\n"
          ],
          "name": "stdout"
        },
        {
          "output_type": "execute_result",
          "data": {
            "text/plain": [
              "Text(0, 0.5, 'y')"
            ]
          },
          "metadata": {
            "tags": []
          },
          "execution_count": 4
        },
        {
          "output_type": "display_data",
          "data": {
            "image/png": "[encoded data removed]",
            "text/plain": [
              "<Figure size 432x288 with 1 Axes>"
            ]
          },
          "metadata": {
            "tags": [],
            "needs_background": "light"
          }
        }
      ]
    }
  ]
}